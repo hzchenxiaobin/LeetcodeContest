{
 "cells": [
  {
   "cell_type": "markdown",
   "id": "653bea3b",
   "metadata": {},
   "source": [
    "## 单调栈"
   ]
  },
  {
   "cell_type": "code",
   "execution_count": 3,
   "id": "b9b36201",
   "metadata": {},
   "outputs": [
    {
     "name": "stdout",
     "output_type": "stream",
     "text": [
      "[3]\n",
      "[3, 1]\n",
      "[4]\n",
      "[4, 2]\n",
      "[5]\n"
     ]
    }
   ],
   "source": [
    "nums = [3, 1, 4, 2, 5]\n",
    "stack = []\n",
    "for num in nums:\n",
    "    while stack and stack[-1] < num:\n",
    "        stack.pop()\n",
    "    stack.append(num)\n",
    "    print(stack)"
   ]
  }
 ],
 "metadata": {
  "kernelspec": {
   "display_name": "Python 3 (ipykernel)",
   "language": "python",
   "name": "python3"
  },
  "language_info": {
   "codemirror_mode": {
    "name": "ipython",
    "version": 3
   },
   "file_extension": ".py",
   "mimetype": "text/x-python",
   "name": "python",
   "nbconvert_exporter": "python",
   "pygments_lexer": "ipython3",
   "version": "3.10.9"
  }
 },
 "nbformat": 4,
 "nbformat_minor": 5
}
