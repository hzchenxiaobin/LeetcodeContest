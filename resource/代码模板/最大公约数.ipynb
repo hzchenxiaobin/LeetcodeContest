{
 "cells": [
  {
   "cell_type": "markdown",
   "id": "bbbf3e2d",
   "metadata": {},
   "source": [
    "Python求最大公约数的函数\n",
    "c = gcd(a, b)"
   ]
  },
  {
   "cell_type": "code",
   "execution_count": 1,
   "id": "05853f69",
   "metadata": {},
   "outputs": [
    {
     "data": {
      "text/plain": [
       "2"
      ]
     },
     "execution_count": 1,
     "metadata": {},
     "output_type": "execute_result"
    }
   ],
   "source": [
    "import math\n",
    "\n",
    "math.gcd(2, 8)"
   ]
  },
  {
   "cell_type": "code",
   "execution_count": 2,
   "id": "e36dffc4",
   "metadata": {},
   "outputs": [
    {
     "data": {
      "text/plain": [
       "2"
      ]
     },
     "execution_count": 2,
     "metadata": {},
     "output_type": "execute_result"
    }
   ],
   "source": [
    "math.gcd(8, 18)"
   ]
  }
 ],
 "metadata": {
  "kernelspec": {
   "display_name": "Python 3 (ipykernel)",
   "language": "python",
   "name": "python3"
  },
  "language_info": {
   "codemirror_mode": {
    "name": "ipython",
    "version": 3
   },
   "file_extension": ".py",
   "mimetype": "text/x-python",
   "name": "python",
   "nbconvert_exporter": "python",
   "pygments_lexer": "ipython3",
   "version": "3.10.9"
  }
 },
 "nbformat": 4,
 "nbformat_minor": 5
}
