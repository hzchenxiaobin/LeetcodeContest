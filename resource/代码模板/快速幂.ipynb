{
 "cells": [
  {
   "cell_type": "markdown",
   "id": "c123bece",
   "metadata": {},
   "source": [
    "## 快速幂\n",
    "\n",
    "import math\n",
    "\n",
    "pow(x, y, MOD)  -> (x ** y) % MOD"
   ]
  },
  {
   "cell_type": "markdown",
   "id": "c9934b94",
   "metadata": {},
   "source": [
    "### 快速幂与普通幂运算的性能比较"
   ]
  },
  {
   "cell_type": "code",
   "execution_count": 12,
   "id": "09c33617",
   "metadata": {},
   "outputs": [
    {
     "name": "stdout",
     "output_type": "stream",
     "text": [
      "494499948\n",
      "快速幂运行时间： 0:00:00.000457\n"
     ]
    }
   ],
   "source": [
    "import datetime\n",
    "\n",
    "starttime = datetime.datetime.now()\n",
    "print(pow(2, 100000000, 10**9 + 7))\n",
    "endtime = datetime.datetime.now()\n",
    "print(\"快速幂运行时间：\", endtime - starttime)"
   ]
  },
  {
   "cell_type": "code",
   "execution_count": 13,
   "id": "bfb5a22c",
   "metadata": {},
   "outputs": [
    {
     "name": "stdout",
     "output_type": "stream",
     "text": [
      "494499948\n",
      "幂运算运行时间： 0:00:00.793804\n"
     ]
    }
   ],
   "source": [
    "starttime = datetime.datetime.now()\n",
    "print((2 ** 100000000) % (10**9 + 7))\n",
    "endtime = datetime.datetime.now()\n",
    "print(\"幂运算运行时间：\", endtime - starttime)"
   ]
  },
  {
   "cell_type": "code",
   "execution_count": 14,
   "id": "c3beeea1",
   "metadata": {},
   "outputs": [
    {
     "name": "stdout",
     "output_type": "stream",
     "text": [
      "494499948\n",
      "幂运算运行时间： 0:00:00.832407\n"
     ]
    }
   ],
   "source": [
    "import datetime\n",
    "\n",
    "starttime = datetime.datetime.now()\n",
    "print(pow(2, 100000000) % (10**9 + 7))\n",
    "endtime = datetime.datetime.now()\n",
    "print(\"幂运算运行时间：\", endtime - starttime)"
   ]
  },
  {
   "cell_type": "code",
   "execution_count": null,
   "id": "963feb32",
   "metadata": {},
   "outputs": [],
   "source": []
  }
 ],
 "metadata": {
  "kernelspec": {
   "display_name": "Python 3 (ipykernel)",
   "language": "python",
   "name": "python3"
  },
  "language_info": {
   "codemirror_mode": {
    "name": "ipython",
    "version": 3
   },
   "file_extension": ".py",
   "mimetype": "text/x-python",
   "name": "python",
   "nbconvert_exporter": "python",
   "pygments_lexer": "ipython3",
   "version": "3.10.9"
  }
 },
 "nbformat": 4,
 "nbformat_minor": 5
}
