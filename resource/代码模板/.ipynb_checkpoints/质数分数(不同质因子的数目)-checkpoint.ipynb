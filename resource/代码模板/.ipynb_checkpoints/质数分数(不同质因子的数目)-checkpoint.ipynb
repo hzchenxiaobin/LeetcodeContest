{
 "cells": [
  {
   "cell_type": "markdown",
   "id": "9af05959",
   "metadata": {},
   "source": [
    "## 质数分数\n",
    "一个整数的 质数分数 等于 x 不同质因子的数目。比方说， 300 的质数分数为 3 ，因为 300 = 2 * 2 * 3 * 5 * 5 。"
   ]
  },
  {
   "cell_type": "code",
   "execution_count": 2,
   "id": "dc4de1c5",
   "metadata": {},
   "outputs": [
    {
     "name": "stdout",
     "output_type": "stream",
     "text": [
      "[0, 0, 1, 1, 1, 1, 2, 1, 1, 1, 2, 1, 2, 1, 2, 2, 1, 1, 2, 1, 2, 2, 2, 1, 2, 1, 2, 1, 2, 1, 3, 1, 1, 2, 2, 2, 2, 1, 2, 2, 2, 1, 3, 1, 2, 2, 2, 1, 2, 1, 2, 2, 2, 1, 2, 2, 2, 2, 2, 1, 3, 1, 2, 2, 1, 2, 3, 1, 2, 2, 3, 1, 2, 1, 2, 2, 2, 2, 3, 1, 2, 1, 2, 1, 3, 2, 2, 2, 2, 1, 3, 2, 2, 2, 2, 2, 2, 1, 2, 2, 2, 1, 3, 1, 2, 3, 2, 1, 2, 1, 3, 2, 2, 1, 3, 2, 2, 2, 2, 2, 3, 1, 2, 2, 2, 1, 3, 1, 1, 2, 3, 1, 3, 2, 2, 2, 2, 1, 3, 1, 3, 2, 2, 2, 2, 2, 2, 2, 2, 1, 3, 1, 2, 2, 3, 2, 3, 1, 2, 2, 2, 2, 2, 1, 2, 3, 2, 1, 3, 1, 3, 2, 2, 1, 3, 2, 2, 2, 2, 1, 3, 1, 3, 2, 2, 2, 3, 2, 2, 2, 3, 1, 2, 1, 2, 3, 2, 1, 3, 1, 2, 2, 2, 2, 3, 2, 2, 2, 2, 2, 4, 1, 2, 2, 2, 2, 2, 2, 2, 2, 3, 2, 3, 1, 2, 2, 2, 1, 3, 1, 3, 3, 2, 1, 3, 2, 2, 2, 3, 1, 3, 1, 2, 1, 2, 2, 3, 2, 2, 2, 2, 1, 3, 2, 2, 3, 1, 1, 3, 2, 3, 2, 2, 1, 3, 2, 3, 2, 2, 1, 3, 1, 2, 3, 2, 2, 3, 1, 2, 2, 3, 1, 3, 1, 2, 3, 3, 2, 2, 1, 3, 2, 2, 1, 3, 2, 2, 2, 2, 2, 3]\n"
     ]
    }
   ],
   "source": [
    "x = 10 ** 5\n",
    "score = [0 for i in range(x+1)]\n",
    "for i in range(2, x+1):\n",
    "    if score[i]:\n",
    "        continue\n",
    "    for j in range(i, x + 1, i):\n",
    "        score[j] += 1\n",
    "\n",
    "print(score)"
   ]
  },
  {
   "cell_type": "code",
   "execution_count": null,
   "id": "047bd473",
   "metadata": {},
   "outputs": [],
   "source": []
  }
 ],
 "metadata": {
  "kernelspec": {
   "display_name": "Python 3 (ipykernel)",
   "language": "python",
   "name": "python3"
  },
  "language_info": {
   "codemirror_mode": {
    "name": "ipython",
    "version": 3
   },
   "file_extension": ".py",
   "mimetype": "text/x-python",
   "name": "python",
   "nbconvert_exporter": "python",
   "pygments_lexer": "ipython3",
   "version": "3.10.9"
  }
 },
 "nbformat": 4,
 "nbformat_minor": 5
}
