{
 "cells": [
  {
   "cell_type": "markdown",
   "id": "c3778c31",
   "metadata": {},
   "source": [
    "通过质数筛快速求出质数"
   ]
  },
  {
   "cell_type": "code",
   "execution_count": 29,
   "id": "631d5c19",
   "metadata": {},
   "outputs": [],
   "source": [
    "def getPrime(x):\n",
    "    s = set([i for i in range(2, x + 1)])\n",
    "    for i in range(2, x + 1):\n",
    "        if i not in s:\n",
    "            continue\n",
    "        for j in range(i * i, x + 1, i):\n",
    "            if j in s:\n",
    "                s.remove(j)\n",
    "    return list(s)\n",
    "    "
   ]
  },
  {
   "cell_type": "code",
   "execution_count": 30,
   "id": "11dc6d3c",
   "metadata": {},
   "outputs": [
    {
     "name": "stdout",
     "output_type": "stream",
     "text": [
      "[2, 3, 5, 7, 11, 13, 17, 19, 23, 29, 31, 37, 41, 43, 47, 53, 59, 61, 67, 71, 73, 79, 83, 89, 97]\n"
     ]
    }
   ],
   "source": [
    "print(getPrime(100))"
   ]
  }
 ],
 "metadata": {
  "kernelspec": {
   "display_name": "Python 3 (ipykernel)",
   "language": "python",
   "name": "python3"
  },
  "language_info": {
   "codemirror_mode": {
    "name": "ipython",
    "version": 3
   },
   "file_extension": ".py",
   "mimetype": "text/x-python",
   "name": "python",
   "nbconvert_exporter": "python",
   "pygments_lexer": "ipython3",
   "version": "3.10.9"
  }
 },
 "nbformat": 4,
 "nbformat_minor": 5
}
